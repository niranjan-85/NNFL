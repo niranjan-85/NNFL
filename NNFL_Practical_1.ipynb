{
  "nbformat": 4,
  "nbformat_minor": 0,
  "metadata": {
    "colab": {
      "name": "NNFL Practical - 1",
      "provenance": [],
      "authorship_tag": "ABX9TyMQiVwsq3GOvc4gh0Av4OTc",
      "include_colab_link": true
    },
    "kernelspec": {
      "name": "python3",
      "display_name": "Python 3"
    },
    "language_info": {
      "name": "python"
    }
  },
  "cells": [
    {
      "cell_type": "markdown",
      "metadata": {
        "id": "view-in-github",
        "colab_type": "text"
      },
      "source": [
        "<a href=\"https://colab.research.google.com/github/niranjan-85/NNFL-/blob/main/NNFL_Practical_1.ipynb\" target=\"_parent\"><img src=\"https://colab.research.google.com/assets/colab-badge.svg\" alt=\"Open In Colab\"/></a>"
      ]
    },
    {
      "cell_type": "code",
      "metadata": {
        "colab": {
          "base_uri": "https://localhost:8080/",
          "height": 949
        },
        "id": "H1GjPkLEVzrH",
        "outputId": "60b37d04-3315-46ee-ac67-0dbb1e47e3c8"
      },
      "source": [
        "import numpy as np\n",
        "import matplotlib.pyplot as plt\n",
        "\n",
        "# Identity function\n",
        "\n",
        "def identity(x):\n",
        "  return x\n",
        "\n",
        "# binary step function\n",
        "\n",
        "def binary_step(x):\n",
        "  if(x >=0):\n",
        "    return 1\n",
        "  return 0\n",
        "\n",
        "# Bipolar step function\n",
        "\n",
        "def bipolar_step(x):\n",
        "  if x>0:\n",
        "    return 1\n",
        "  elif x<0:\n",
        "    return -1\n",
        "  return x\n",
        "\n",
        "# Binary Sigmoidal function\n",
        "\n",
        "def Binary_Sigmoidal(x,lamda_val):\n",
        "  y = 1/(1 + (np.exp(-x*lamda_val)))\n",
        "  return y ;\n",
        "\n",
        "\n",
        "# Bipolar Sigmoidal function\n",
        "\n",
        "def Bipolar_Sigmoidal(x,lamda_val):\n",
        "  denominator = 1 + (np.exp(-x*lamda_val))\n",
        "  return (2/denominator)-1 ;\n",
        "\n",
        "# Ramp function\n",
        "\n",
        "def Ramp(x):\n",
        "  if x>1:\n",
        "    return 1\n",
        "  elif x>=0 and x<=1:\n",
        "    return x\n",
        "  return 0\n",
        "\n",
        "\n",
        "################################ Main ###################################\n",
        "\n",
        "input = np.linspace(0,1,10)\n",
        "\n",
        "#Identity function call\n",
        "y1 = identity(input)\n",
        "\n",
        "print(\"Indentity Function \")\n",
        "\n",
        "# plot identity function\n",
        "plt.plot(input,y1)\n",
        "plt.xlabel(\"x\")\n",
        "plt.ylabel(\"y\")\n",
        "plt.show()\n",
        "\n",
        "\n",
        "#################################################\n",
        "\n",
        "print(\"Binary Sigmoidal Function \")\n",
        "\n",
        "# binary Sigmoidal function call\n",
        "input = np.linspace(-20,20,100)\n",
        "\n",
        "lamda = 1\n",
        "y1 = Binary_Sigmoidal(input,lamda)\n",
        "\n",
        "\n",
        "# plot identity function\n",
        "plt.plot(input,y1)\n",
        "plt.xlabel(\"x\")\n",
        "plt.ylabel(\"y\")\n",
        "plt.show()\n",
        "\n",
        "#################################################\n",
        "\n",
        "# bipolar Sigmoidal function call\n",
        "\n",
        "print(\"Bipolar Sigmoidal Function \")\n",
        "lamda = 1\n",
        "y1 = Bipolar_Sigmoidal(input,lamda)\n",
        "\n",
        "\n",
        "# plot bipolar Sigmoidal function\n",
        "plt.plot(input,y1)\n",
        "plt.show()\n",
        "\n",
        "\n",
        "\n",
        "##################################################\n",
        "\n",
        "print(\"Binary Step Function \")\n",
        "\n",
        "#binary step function call\n",
        "input = -5\n",
        "y1 = binary_step(input)\n",
        "print(y1)\n",
        "\n",
        "##################################################\n",
        "\n",
        "#bipolar step function call\n",
        "\n",
        "print(\"Bipolar Step Function \")\n",
        "\n",
        "input = -2\n",
        "y1 = bipolar_step(input)\n",
        "print(y1)\n",
        "\n",
        "\n",
        "##################################################\n",
        "\n",
        "print(\"Ramp Function \")\n",
        "\n",
        "input = -2\n",
        "y1 = Ramp(input)\n",
        "print(y1)\n",
        "\n",
        "\n"
      ],
      "execution_count": 47,
      "outputs": [
        {
          "output_type": "stream",
          "text": [
            "Indentity Function \n"
          ],
          "name": "stdout"
        },
        {
          "output_type": "display_data",
          "data": {
            "image/png": "[encoded data removed]",
            "text/plain": [
              "<Figure size 432x288 with 1 Axes>"
            ]
          },
          "metadata": {
            "tags": [],
            "needs_background": "light"
          }
        },
        {
          "output_type": "stream",
          "text": [
            "Binary Sigmoidal Function \n"
          ],
          "name": "stdout"
        },
        {
          "output_type": "display_data",
          "data": {
            "image/png": "[encoded data removed]",
            "text/plain": [
              "<Figure size 432x288 with 1 Axes>"
            ]
          },
          "metadata": {
            "tags": [],
            "needs_background": "light"
          }
        },
        {
          "output_type": "stream",
          "text": [
            "Bipolar Sigmoidal Function \n"
          ],
          "name": "stdout"
        },
        {
          "output_type": "display_data",
          "data": {
            "image/png": "[encoded data removed]",
            "text/plain": [
              "<Figure size 432x288 with 1 Axes>"
            ]
          },
          "metadata": {
            "tags": [],
            "needs_background": "light"
          }
        },
        {
          "output_type": "stream",
          "text": [
            "Binary Step Function \n",
            "0\n",
            "Bipolar Step Function \n",
            "-1\n",
            "Ramp Function \n",
            "0\n"
          ],
          "name": "stdout"
        }
      ]
    }
  ]
}